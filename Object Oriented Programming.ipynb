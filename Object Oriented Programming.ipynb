{
 "cells": [
  {
   "cell_type": "markdown",
   "metadata": {},
   "source": [
    "# OOP\n",
    "Object Oriented Programming is a paradigm , it is a was to think about your code and the way we structure it.\n",
    "In python, every thing is an object. Objects have attributes that you can access with the DOT method.\n",
    "\n",
    "For example i am programming a drone\n",
    "With OOP i can model this in my code representing the drone => create a drone object that has the features of the drone \n",
    "( such as camera). I can also perform actions on the object such as \"lift off\" or \"land\"\n",
    "Im my opinion , it is a better way to think.\n",
    "\n",
    "In OOP there is this idea of class being this blueprint of what we want to create (attributes = properties that out class can take) and ( methods = actions the class can take)\n",
    "From this blueprint(class) , i can create objects using the blueprint.\n",
    "\n",
    "The class can be instantiated (action of creating different instances) ( instances are objects)\n",
    "\n",
    "4 pillars of OOP : what oop does really well!\n",
    "\n",
    "1. Encapsulation : is the binding of data and functions that manipulate that data. We encapsulate it into an object\n",
    "                   so we keep everything in a box would be interacted with.\n",
    "                   \n",
    "2. Abstraction : giving access to only what is necessary. Everything else is hidden. Lets you use the methods.\n",
    "\n",
    "3. Inheritance : allows new objects to take on the properties of existing objects => inherit classes.\n",
    "\n",
    "4. Polymorphism : The idea that refers to the way in object classes can share the same method name but those methods can act differently based on what object calls the method.\n",
    "Keep Code DRY\n",
    "\n",
    "1. Create Your Own Object\n",
    "2. @classmethod and @staticmethod\n",
    "3. Private and Public Variables\n",
    "4. Inheritance\n",
    "5. super()\n",
    "6. Object Introspection\n",
    "7. Dunder Methods\n",
    "8. Multiple Inheritance\n",
    "9. MRO - Method Resolution"
   ]
  },
  {
   "cell_type": "code",
   "execution_count": 1,
   "metadata": {},
   "outputs": [],
   "source": [
    "class BigThing: # creating a class\n",
    "    #code\n",
    "    pass\n",
    "\n",
    "obj1 = BigThing()  # instance1\n",
    "obj2 = BigThing()  # instance2\n",
    "obj3 = BigThing()  # instance3"
   ]
  },
  {
   "cell_type": "code",
   "execution_count": 17,
   "metadata": {},
   "outputs": [
    {
     "name": "stdout",
     "output_type": "stream",
     "text": [
      "<__main__.Player object at 0x000001BF05ED2850>\n",
      "Bob\n",
      "18\n",
      "True\n",
      "You just got your self 100 GBucks!\n",
      "None\n"
     ]
    }
   ],
   "source": [
    "class Player:\n",
    "    attack = True # static --> every player can attack\n",
    "    def __init__(self,name,age,season_pass):  # <-- initialize\n",
    "        self.name = name   # attributes / properties\n",
    "        self.age = age\n",
    "        self.season_pass = season_pass\n",
    "    \n",
    "    def run(self):\n",
    "        print('run')\n",
    "    \n",
    "    def reward(self):\n",
    "        if self.season_pass == True:\n",
    "            print('You just got your self 100 GBucks!')\n",
    "\n",
    "player = Player('Bob',18,True)  # <-- have to give a name\n",
    "print(player)\n",
    "\n",
    "print(player.name)\n",
    "print(player.age)\n",
    "\n",
    "print(player.attack) # <-- shoul show as True\n",
    "\n",
    "print(player.reward())\n"
   ]
  },
  {
   "cell_type": "code",
   "execution_count": 20,
   "metadata": {},
   "outputs": [
    {
     "name": "stdout",
     "output_type": "stream",
     "text": [
      "Hacker\n"
     ]
    }
   ],
   "source": [
    "# Now the Game Dev said \"Only people who are the age 18 and above can play the game\"\n",
    "\n",
    "class player():\n",
    "    def __init__(self,name,age):\n",
    "        if age>18 :\n",
    "            self.name = name\n",
    "            self.age = age\n",
    "\n",
    "player1 = player(\"Bob\",16)\n",
    "player2 = player(\"Hacker\",19)\n",
    "\n",
    "# print(player1.name)  <-- this will give an error!\n",
    "print(player2.name)\n"
   ]
  },
  {
   "cell_type": "code",
   "execution_count": 11,
   "metadata": {},
   "outputs": [
    {
     "name": "stdout",
     "output_type": "stream",
     "text": [
      "my name is Tommy\n",
      "None\n",
      "5\n",
      "15\n",
      "78\n"
     ]
    }
   ],
   "source": [
    "# @classmethod and @staticmethod\n",
    "\n",
    "class player():\n",
    "    def __init__(self,name,age):\n",
    "        self.name = name\n",
    "        self.age = age\n",
    "    \n",
    "    def shout(self):\n",
    "        print(f'my name is {self.name}')\n",
    "        \n",
    "    @classmethod\n",
    "    def adding_things(cls,num1,num2):\n",
    "        return num1 + num2\n",
    "    \n",
    "    @staticmethod\n",
    "    def substacting_things(num1,num2):   # the only difference between classmethods and static methods is that staticmethos dont have access to cls\n",
    "        \n",
    "        return num1 - num2               # staticmethod does not care about the information in the class (attributes)\n",
    "\n",
    "player1 = player('Tommy',20)\n",
    "print(player1.shout())\n",
    "\n",
    "print(player1.adding_things(2,3))\n",
    "print(player.adding_things(9,6))   # can be run without instantiating things\n",
    "\n",
    "print(player1.substacting_things(80,2))"
   ]
  },
  {
   "cell_type": "code",
   "execution_count": 18,
   "metadata": {},
   "outputs": [
    {
     "name": "stdout",
     "output_type": "stream",
     "text": [
      "adrei\n"
     ]
    }
   ],
   "source": [
    "# Private and Public Variable\n",
    "\n",
    "class player:\n",
    "    def __init__(self,name,age):\n",
    "        self.name = name\n",
    "        self.age = age\n",
    "    def run(self):\n",
    "        print('run')\n",
    "    def speak(self):\n",
    "        print(f'my name is {self.name}, and I am {self.age} years old')\n",
    "\n",
    "player1 = player('adrei',25)\n",
    "# player1.name = '!!!!'     this means your name can be overwritten\n",
    "print(player1.name)  # this is bad\n",
    "\n",
    "# Private Attribute --> sadly there is no true privacy in python. _.method means the programming is saying this is a private\n",
    "# Public Attribute"
   ]
  },
  {
   "cell_type": "code",
   "execution_count": 1,
   "metadata": {},
   "outputs": [],
   "source": [
    "# Inheritance Example\n",
    "\n",
    "class User():\n",
    "    def sign_in():\n",
    "        print(\"sign in pls\")\n",
    "\n",
    "class Wizard(User):  # this is inheritance => all the attributes are passed down.\n",
    "    pass\n",
    "\n",
    "class Elf(User):\n",
    "    pass\n",
    "\n",
    "class Human(User):\n",
    "    pass\n",
    "\n",
    "# How to check if something is an instance\n",
    "# isinstance(instance,class)\n"
   ]
  },
  {
   "cell_type": "code",
   "execution_count": 25,
   "metadata": {},
   "outputs": [
    {
     "name": "stdout",
     "output_type": "stream",
     "text": [
      "Attack!\n",
      "attacking with power of lightmagic\n",
      "None\n",
      "attacking with arrows: arrows left - 100\n",
      "None\n"
     ]
    },
    {
     "ename": "AttributeError",
     "evalue": "'Wizard' object has no attribute 'email'",
     "output_type": "error",
     "traceback": [
      "\u001b[1;31m---------------------------------------------------------------------------\u001b[0m",
      "\u001b[1;31mAttributeError\u001b[0m                            Traceback (most recent call last)",
      "\u001b[1;32m<ipython-input-25-23e1e5e98ef5>\u001b[0m in \u001b[0;36m<module>\u001b[1;34m\u001b[0m\n\u001b[0;32m     34\u001b[0m \u001b[1;31m# Eventhough the method name is the same , the results with different objects calling it is different.\u001b[0m\u001b[1;33m\u001b[0m\u001b[1;33m\u001b[0m\u001b[1;33m\u001b[0m\u001b[0m\n\u001b[0;32m     35\u001b[0m \u001b[1;33m\u001b[0m\u001b[0m\n\u001b[1;32m---> 36\u001b[1;33m \u001b[0mprint\u001b[0m\u001b[1;33m(\u001b[0m\u001b[0mWizard1\u001b[0m\u001b[1;33m.\u001b[0m\u001b[0memail\u001b[0m\u001b[1;33m(\u001b[0m\u001b[1;33m)\u001b[0m\u001b[1;33m)\u001b[0m\u001b[1;33m\u001b[0m\u001b[1;33m\u001b[0m\u001b[0m\n\u001b[0m",
      "\u001b[1;31mAttributeError\u001b[0m: 'Wizard' object has no attribute 'email'"
     ]
    }
   ],
   "source": [
    "# Polymorphism # Same code from above\n",
    "\n",
    "class User():\n",
    "    def sign_in():\n",
    "        print(\"sign in pls\")\n",
    "    \n",
    "    def __init__(self,email):\n",
    "        self.email = email\n",
    "    \n",
    "    def attack(slef):\n",
    "        print(\"Attack!\")\n",
    "\n",
    "class Wizard(User):\n",
    "    def __init__(self,name,power):\n",
    "        self.name = name\n",
    "        self.power = power\n",
    "    def attack(self):\n",
    "        User.attack(self)    # <-- How to call a method from a subclass of the parent class.\n",
    "        print(f'attacking with power of {self.power}')\n",
    "\n",
    "class Elf(User):\n",
    "    def __init__(self,name,arrows):\n",
    "        self.name = name\n",
    "        self.arrows = arrows \n",
    "    def attack(self):\n",
    "        print(f'attacking with arrows: arrows left - {self.arrows}')\n",
    "\n",
    "Wizard1 = Wizard('Gandalf','lightmagic')\n",
    "print(Wizard1.attack())\n",
    "\n",
    "elf1 = Elf('RobinHood',100)\n",
    "print(elf1.attack())\n",
    "\n",
    "# Eventhough the method name is the same , the results with different objects calling it is different.\n",
    "\n",
    "# ---> print(Wizard1.email()) <-- this gives an error"
   ]
  },
  {
   "cell_type": "code",
   "execution_count": 31,
   "metadata": {},
   "outputs": [
    {
     "name": "stdout",
     "output_type": "stream",
     "text": [
      "Attack!\n",
      "attacking with power of lightmagic\n",
      "None\n",
      "attacking with arrows: arrows left - 100\n",
      "None\n",
      "email\n",
      "gmail\n"
     ]
    }
   ],
   "source": [
    "class User():\n",
    "    def sign_in():\n",
    "        print(\"sign in pls\")\n",
    "    \n",
    "    def __init__(self,email):\n",
    "        self.email = email\n",
    "    \n",
    "    def attack(slef):\n",
    "        print(\"Attack!\")\n",
    "\n",
    "class Wizard(User):\n",
    "    def __init__(self,name,power,email):\n",
    "        User.__init__(self,email)        # <--- this is one way to solve it\n",
    "        self.name = name\n",
    "        self.power = power\n",
    "    def attack(self):\n",
    "        User.attack(self)    # <-- How to call a method from a subclass of the parent class.\n",
    "        print(f'attacking with power of {self.power}')\n",
    "\n",
    "class Elf(User):\n",
    "    def __init__(self,name,arrows,email):\n",
    "        super().__init__(email)\n",
    "        self.name = name\n",
    "        self.arrows = arrows \n",
    "    def attack(self):\n",
    "        print(f'attacking with arrows: arrows left - {self.arrows}')\n",
    "\n",
    "Wizard1 = Wizard('Gandalf','lightmagic','email')\n",
    "print(Wizard1.attack())\n",
    "\n",
    "elf1 = Elf('RobinHood',100,'gmail')\n",
    "print(elf1.attack())\n",
    "\n",
    "print(Wizard1.email)\n",
    "print(elf1.email)\n"
   ]
  },
  {
   "cell_type": "code",
   "execution_count": 32,
   "metadata": {},
   "outputs": [],
   "source": [
    " # Introspection is the ability to determine the type of an object at runtime\n",
    "    # Python allows us to do introspection and inspect these objects with some nime helper function\n",
    "#print(dir(wizard))"
   ]
  },
  {
   "cell_type": "code",
   "execution_count": 34,
   "metadata": {},
   "outputs": [
    {
     "ename": "SyntaxError",
     "evalue": "invalid syntax (<ipython-input-34-f162b3316ac3>, line 3)",
     "output_type": "error",
     "traceback": [
      "\u001b[1;36m  File \u001b[1;32m\"<ipython-input-34-f162b3316ac3>\"\u001b[1;36m, line \u001b[1;32m3\u001b[0m\n\u001b[1;33m    Class Toy():\u001b[0m\n\u001b[1;37m          ^\u001b[0m\n\u001b[1;31mSyntaxError\u001b[0m\u001b[1;31m:\u001b[0m invalid syntax\n"
     ]
    }
   ],
   "source": [
    "# Dunder Methods : speacial method that python recognizes\n",
    "\n",
    "Class Toy():\n",
    "    def __init(self,color,age):\n",
    "        self.color = color\n",
    "        self.age = age\n",
    "        \n",
    "    def __str__(self):\n",
    "        print(\"Hello\")   # <-- i know im not supposed to change dunder methods , but i can\n",
    "\n",
    "action_figure = Toy('red',0)\n",
    "print(action_figure.__str__())\n",
    "print(str(action_figure))\n",
    "\n",
    "\n",
    "\n"
   ]
  },
  {
   "cell_type": "code",
   "execution_count": 39,
   "metadata": {},
   "outputs": [
    {
     "name": "stdout",
     "output_type": "stream",
     "text": [
      "Attack!\n",
      "attacking with power of lightmagic\n",
      "None\n",
      "attacking with arrows: arrows left - 100\n",
      "None\n"
     ]
    }
   ],
   "source": [
    "class User():\n",
    "    def sign_in():\n",
    "        print(\"sign in pls\")\n",
    "    \n",
    "    def attack(slef):\n",
    "        print(\"Attack!\")\n",
    "\n",
    "class Wizard(User):\n",
    "    def __init__(self,name,power):\n",
    "        self.name = name\n",
    "        self.power = power\n",
    "    def attack(self):\n",
    "        User.attack(self) \n",
    "        print(f'attacking with power of {self.power}')\n",
    "\n",
    "class Elf(User):\n",
    "    def __init__(self,name,arrows):\n",
    "        self.name = name\n",
    "        self.arrows = arrows \n",
    "    def attack(self):\n",
    "        print(f'attacking with arrows: arrows left - {self.arrows}')\n",
    "        \n",
    "# <-------------------------------------------------------------------- Start Looking From Here!\n",
    "        \n",
    "        \n",
    "class Hybrid(Wizard,Elf):                     # <--- suppose that Hybrid was a mix between the elves and Wizards\n",
    "    def __init__(self,name,power,arrows):\n",
    "        Elf.__init__(self,name,arroes)\n",
    "        Wizard.__init__(self,name,power)\n",
    "\n",
    "Wizard1 = Wizard('Gandalf','lightmagic')\n",
    "print(Wizard1.attack())\n",
    "\n",
    "elf1 = Elf('RobinHood',100,)\n",
    "print(elf1.attack())"
   ]
  },
  {
   "cell_type": "code",
   "execution_count": 43,
   "metadata": {},
   "outputs": [
    {
     "name": "stdout",
     "output_type": "stream",
     "text": [
      "1\n",
      "[<class '__main__.D'>, <class '__main__.B'>, <class '__main__.C'>, <class '__main__.A'>, <class 'object'>]\n"
     ]
    }
   ],
   "source": [
    "# MRO - Method Resolution Order  # this is a bad code\n",
    "class A:\n",
    "    num = 10\n",
    "\n",
    "class B(A):\n",
    "    pass\n",
    "\n",
    "class C(A):\n",
    "    num = 1\n",
    "\n",
    "class D(B,C):\n",
    "    pass\n",
    "\n",
    "print(D.num)  # <-- overwritten by C\n",
    "print(D.mro())"
   ]
  },
  {
   "cell_type": "code",
   "execution_count": null,
   "metadata": {},
   "outputs": [],
   "source": []
  }
 ],
 "metadata": {
  "kernelspec": {
   "display_name": "Python 3",
   "language": "python",
   "name": "python3"
  },
  "language_info": {
   "codemirror_mode": {
    "name": "ipython",
    "version": 3
   },
   "file_extension": ".py",
   "mimetype": "text/x-python",
   "name": "python",
   "nbconvert_exporter": "python",
   "pygments_lexer": "ipython3",
   "version": "3.8.3"
  }
 },
 "nbformat": 4,
 "nbformat_minor": 4
}
