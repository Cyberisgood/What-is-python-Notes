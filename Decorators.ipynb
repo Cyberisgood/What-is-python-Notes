{
 "cells": [
  {
   "cell_type": "markdown",
   "metadata": {},
   "source": [
    "# What are decorators ?\n",
    "\n",
    "Functions in python are nicknames first class citizens\n",
    "* They can be passed as arguments\n",
    "* They can be returned as the values\n",
    "* They can be assigned to variables or storing them in data structures\n",
    "\n",
    "A @decorator super charges our function and it is a function that wraps another function , enhancing it or chaning it."
   ]
  },
  {
   "cell_type": "code",
   "execution_count": 9,
   "metadata": {},
   "outputs": [
    {
     "name": "stdout",
     "output_type": "stream",
     "text": [
      "Hello\n"
     ]
    }
   ],
   "source": [
    "def hello():\n",
    "    print(\"Hello\")\n",
    "\n",
    "greet = hello\n",
    "del hello # only deletes function's name\n",
    "greet()"
   ]
  },
  {
   "cell_type": "code",
   "execution_count": 11,
   "metadata": {},
   "outputs": [],
   "source": [
    "# @decorators supercharge our function and gives extra features\n",
    "# Higher order funtion\n",
    "\n",
    "def greet(func):  # a function that accepts another function\n",
    "    func()\n",
    "    \n",
    "def greet2():    # a function that returns another function\n",
    "    def func():\n",
    "        return 5\n",
    "    return func\n",
    "\n",
    "# map() # is also a HOF"
   ]
  },
  {
   "cell_type": "code",
   "execution_count": 13,
   "metadata": {},
   "outputs": [
    {
     "name": "stdout",
     "output_type": "stream",
     "text": [
      "Hellooo!\n"
     ]
    }
   ],
   "source": [
    "#Decorator\n",
    "\n",
    "def my_decorator(func):\n",
    "    def wrap_function():\n",
    "        func()\n",
    "    return wrap_function\n",
    "\n",
    "@my_decorator\n",
    "def hello():\n",
    "    print('Hellooo!')\n",
    "\n",
    "hello()\n",
    "# this is a useless example"
   ]
  },
  {
   "cell_type": "code",
   "execution_count": 17,
   "metadata": {},
   "outputs": [
    {
     "name": "stdout",
     "output_type": "stream",
     "text": [
      "******\n",
      "hellooo!\n",
      "******\n",
      "None\n",
      "******\n",
      "******\n",
      "hellooo!\n",
      "******\n",
      "******\n",
      "None\n"
     ]
    }
   ],
   "source": [
    "# A more useful example:\n",
    "\n",
    "def my_decorator(func):\n",
    "    def wrap_func():\n",
    "        print('******')\n",
    "        func()\n",
    "        print('******')\n",
    "    return wrap_func\n",
    "\n",
    "@my_decorator\n",
    "def hello():\n",
    "    print('hellooo!')\n",
    "\n",
    "print(hello())\n",
    "print(my_decorator(hello)())"
   ]
  },
  {
   "cell_type": "code",
   "execution_count": 27,
   "metadata": {},
   "outputs": [
    {
     "name": "stdout",
     "output_type": "stream",
     "text": [
      "******\n",
      "hello\n",
      "******\n",
      "None\n",
      "******\n",
      "hii\n",
      "******\n"
     ]
    }
   ],
   "source": [
    "# A more useful example:\n",
    "\n",
    "def my_decorator(func):\n",
    "    def wrap_func(greeting):\n",
    "        print('******')\n",
    "        func(greeting)\n",
    "        print('******')\n",
    "    return wrap_func\n",
    "\n",
    "@my_decorator\n",
    "def hello(greeting):\n",
    "    print(greeting)\n",
    "\n",
    "print(hello('hello'))\n",
    "\n",
    "# in other words\n",
    "a = my_decorator(hello)\n",
    "hello('hii')"
   ]
  },
  {
   "cell_type": "code",
   "execution_count": 35,
   "metadata": {},
   "outputs": [
    {
     "name": "stdout",
     "output_type": "stream",
     "text": [
      "10\n",
      "11\n",
      "12\n",
      "13\n",
      "14\n",
      "15\n",
      "16\n",
      "17\n",
      "18\n",
      "19\n",
      "took 0.0s\n"
     ]
    }
   ],
   "source": [
    "# decorator for checking performance\n",
    "from time import time\n",
    "def performance(fn):\n",
    "    def wrapper(*args,**kwargs):\n",
    "        t1 = time()\n",
    "        result = fn(*args,**kwargs)\n",
    "        t2 = time()\n",
    "        print(f'took {t2-t1}s')\n",
    "        return result\n",
    "    return wrapper\n",
    "\n",
    "@performance\n",
    "def long_time():\n",
    "    for i in range(10):\n",
    "        print(i+10)\n",
    "\n",
    "long_time()  # depends on your machine"
   ]
  },
  {
   "cell_type": "code",
   "execution_count": null,
   "metadata": {},
   "outputs": [],
   "source": []
  }
 ],
 "metadata": {
  "kernelspec": {
   "display_name": "Python 3",
   "language": "python",
   "name": "python3"
  },
  "language_info": {
   "codemirror_mode": {
    "name": "ipython",
    "version": 3
   },
   "file_extension": ".py",
   "mimetype": "text/x-python",
   "name": "python",
   "nbconvert_exporter": "python",
   "pygments_lexer": "ipython3",
   "version": "3.8.3"
  }
 },
 "nbformat": 4,
 "nbformat_minor": 4
}
