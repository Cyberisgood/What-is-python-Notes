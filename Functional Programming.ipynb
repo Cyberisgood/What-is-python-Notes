{
 "cells": [
  {
   "cell_type": "markdown",
   "metadata": {},
   "source": [
    "# What is Functional Programming ?\n",
    "\n",
    "Unlike OOPs (where attributes and methods are combined in a class) , functional programming is about separating data and functions.\n",
    "In otherwords, data which gets interacted and acted upon but not combined with data.\n",
    "Generally functional programming paradigms have an emphasis on simplicity : where data and functions are not concerned.\n",
    "Instaed of having classes and objects ( in OOP ), there are functions that operate on well-defined data structures ( such as: lists , dictionaries)\n",
    "Overall the goal of both OOP and Functional Programming is the same...\n",
    "1. clean\n",
    "2. Easy to extend\n",
    "3. Easy to maintain\n",
    "4. Memory efficient\n",
    "5. DRY\n",
    "\n",
    "### Difference between data of a program vs behaivor of a program\n",
    "\n",
    "### Contents\n",
    "\n",
    "1. Pure Functions\n",
    "2. map,filter,zip and reduce\n",
    "3. lambda"
   ]
  },
  {
   "cell_type": "markdown",
   "metadata": {},
   "source": [
    "### 1. What are pure functions?\n",
    "\n",
    "A pure function has two rules:\n",
    "1. Given the same input , the output of the function should be the same if no changes are made to the function\n",
    "2. functions should have no side effects.\n"
   ]
  },
  {
   "cell_type": "code",
   "execution_count": 13,
   "metadata": {},
   "outputs": [
    {
     "name": "stdout",
     "output_type": "stream",
     "text": [
      "[0.1, 0.2, 0.3]\n"
     ]
    }
   ],
   "source": [
    "# For example this is a pure function\n",
    "\n",
    "def divide_by10(li):  # simple function that divides all the values by 10\n",
    "    new_list = []\n",
    "    for item in li:\n",
    "        new_list.append(item/10)\n",
    "    return new_list\n",
    "\n",
    "\n",
    "print(divide_by10([1,2,3])) # this is a pure function\n"
   ]
  },
  {
   "cell_type": "code",
   "execution_count": 7,
   "metadata": {},
   "outputs": [
    {
     "name": "stdout",
     "output_type": "stream",
     "text": [
      "[0.1, 0.2, 0.3, 0.4, 0.5]\n",
      "[0.2, 0.4, 0.6]\n"
     ]
    }
   ],
   "source": [
    "# map allows us to simplify the code\n",
    "# map(func,iterable)\n",
    "\n",
    "list1 = [2,4,6]\n",
    "\n",
    "def divide_by10(item):  # cleaner code\n",
    "    return item/10\n",
    "\n",
    "print(list(map(divide_by10,[1,2,3,4,5])))\n",
    "print(list(map(divide_by10,list1)))"
   ]
  },
  {
   "cell_type": "code",
   "execution_count": 12,
   "metadata": {},
   "outputs": [
    {
     "name": "stdout",
     "output_type": "stream",
     "text": [
      "[1, 3]\n"
     ]
    }
   ],
   "source": [
    "# filtering some of the results\n",
    "\n",
    "my_list = [1,2,3,4]\n",
    "\n",
    "def ODD(item):\n",
    "    return item % 2 != 0\n",
    "\n",
    "print(list(filter(ODD,my_list)))"
   ]
  },
  {
   "cell_type": "code",
   "execution_count": 13,
   "metadata": {},
   "outputs": [
    {
     "name": "stdout",
     "output_type": "stream",
     "text": [
      "[(1, 10), (2, 20), (3, 30)]\n"
     ]
    }
   ],
   "source": [
    "my_list = [1,2,3]\n",
    "your_list = [10,20,30]\n",
    "\n",
    "print(list(zip(my_list,your_list)))\n"
   ]
  },
  {
   "cell_type": "code",
   "execution_count": 17,
   "metadata": {},
   "outputs": [
    {
     "name": "stdout",
     "output_type": "stream",
     "text": [
      "10 1\n",
      "11 2\n",
      "13 3\n",
      "16\n"
     ]
    }
   ],
   "source": [
    "# reduce\n",
    "\n",
    "from functools import reduce\n",
    "my_list = [1,2,3]\n",
    "your_list = (10,20,30)\n",
    "their_list = (5,4,3)\n",
    "def multiply_by2(item):\n",
    "    return item*2\n",
    "\n",
    "def only_odd(item):\n",
    "    return item %2 != 0\n",
    "\n",
    "def acc(acc,item):\n",
    "    print(acc,item)\n",
    "    return acc+item\n",
    "\n",
    "print(reduce(acc,my_list,10))"
   ]
  },
  {
   "cell_type": "code",
   "execution_count": 19,
   "metadata": {},
   "outputs": [
    {
     "name": "stdout",
     "output_type": "stream",
     "text": [
      "[2, 4, 6]\n"
     ]
    }
   ],
   "source": [
    "# lambda Expression\n",
    "\n",
    "# lambda param: action(param)\n",
    "# this is very handy if you only call a function once in your code\n",
    "# you can replace it with a lambda expression\n",
    "\n",
    "from functools import reduce\n",
    "my_list = [1,2,3]\n",
    "\n",
    "print(list(map(lambda item: item*2,my_list)))"
   ]
  },
  {
   "cell_type": "code",
   "execution_count": 20,
   "metadata": {},
   "outputs": [],
   "source": [
    "# List and set comprehension\n",
    "\n",
    "my_list = [char for char in 'hello']\n",
    "my_list2 = [char for char in range(1,100)]\n",
    "my_list3 = [num**2 for num in range(1,20)]\n",
    "my_list4 = [num**2 for num in range(1,20) if num %2 ==0]"
   ]
  },
  {
   "cell_type": "code",
   "execution_count": 26,
   "metadata": {},
   "outputs": [
    {
     "name": "stdout",
     "output_type": "stream",
     "text": [
      "{}\n",
      "{1: 1, 2: 4, 3: 9}\n"
     ]
    }
   ],
   "source": [
    "# dictionary comprehension\n",
    "\n",
    "nice_dict = {\n",
    "    'a':1,\n",
    "    'b':3\n",
    "}\n",
    "\n",
    "my_dict = {k:v**2 for k,v in nice_dict.items() if v%2 == 0}\n",
    "print(my_dict)\n",
    "\n",
    "my_dict = {num:num**2 for num in [1,2,3]}\n",
    "print(my_dict)"
   ]
  },
  {
   "cell_type": "code",
   "execution_count": 30,
   "metadata": {},
   "outputs": [
    {
     "name": "stdout",
     "output_type": "stream",
     "text": [
      "['n', 'a']\n"
     ]
    }
   ],
   "source": [
    "some_list = ['a','b','c','d','e','n','m','n','a']\n",
    "duplicates = list(set([x for x in some_list if some_list.count(x)>1]))\n",
    "print(duplicates)"
   ]
  },
  {
   "cell_type": "code",
   "execution_count": null,
   "metadata": {},
   "outputs": [],
   "source": []
  }
 ],
 "metadata": {
  "kernelspec": {
   "display_name": "Python 3",
   "language": "python",
   "name": "python3"
  },
  "language_info": {
   "codemirror_mode": {
    "name": "ipython",
    "version": 3
   },
   "file_extension": ".py",
   "mimetype": "text/x-python",
   "name": "python",
   "nbconvert_exporter": "python",
   "pygments_lexer": "ipython3",
   "version": "3.8.3"
  }
 },
 "nbformat": 4,
 "nbformat_minor": 4
}
