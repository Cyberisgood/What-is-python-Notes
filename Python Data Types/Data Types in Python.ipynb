{
 "cells": [
  {
   "cell_type": "markdown",
   "metadata": {},
   "source": [
    "## Fundamental Data Types in Python\n",
    "\n",
    "These are the main types of data types in python :\n",
    "\n",
    "* int - integers\n",
    "\n",
    "* floats - floating point numbers or decimals\n",
    "\n",
    "* bool - boolean opperators\n",
    "\n",
    "* str - string or can be thought as text , which do not participate in logival opperation\n",
    "\n",
    "* List - list of values\n",
    "\n",
    "* Tuples - also list of values but are immutable\n",
    "\n",
    "* Sets -\n",
    "\n",
    "* Dictionaries\n",
    "\n",
    "* Classes \n",
    "\n",
    "* Specialized data types : they come with packages and modules from python libraries\n",
    "\n",
    "* None\n",
    "\n",
    "#### Useful links : ( with good diagrams )\n",
    "\n",
    "1. https://tech.paayi.com/data-structures-in-python\n",
    "\n",
    "2. http://net-informations.com/python/ds/default.htm\n",
    "\n",
    "3. https://towardsdatascience.com/data-structures-in-python-python-for-aspiring-data-scientists-b52bc058fcbd"
   ]
  },
  {
   "cell_type": "markdown",
   "metadata": {},
   "source": [
    "### What is Immutability ?\n",
    "\n",
    "Basically that data type can not be changed"
   ]
  },
  {
   "cell_type": "code",
   "execution_count": 2,
   "metadata": {},
   "outputs": [
    {
     "data": {
      "text/plain": [
       "float"
      ]
     },
     "execution_count": 2,
     "metadata": {},
     "output_type": "execute_result"
    }
   ],
   "source": [
    "type(1.0) # because it has a decimal point it is a decimal"
   ]
  },
  {
   "cell_type": "code",
   "execution_count": 3,
   "metadata": {},
   "outputs": [
    {
     "data": {
      "text/plain": [
       "int"
      ]
     },
     "execution_count": 3,
     "metadata": {},
     "output_type": "execute_result"
    }
   ],
   "source": [
    "type(2) # this is an integer"
   ]
  },
  {
   "cell_type": "markdown",
   "metadata": {},
   "source": [
    "#### Why does python have to make a distinction between Floats and Integers ?\n",
    " \n",
    "--> Here is the short answer :\n",
    "    \n",
    "1. Because you have decimals places , it is hard to represent the float number in binary\n",
    "\n",
    "2. A floating point number actually stores the two sides of the decimal point in two different memory locations"
   ]
  },
  {
   "cell_type": "code",
   "execution_count": 5,
   "metadata": {},
   "outputs": [],
   "source": [
    "# Operators "
   ]
  },
  {
   "cell_type": "code",
   "execution_count": 14,
   "metadata": {},
   "outputs": [
    {
     "data": {
      "text/plain": [
       "(13, 12.78)"
      ]
     },
     "execution_count": 14,
     "metadata": {},
     "output_type": "execute_result"
    }
   ],
   "source": [
    "# Useful maths Function\n",
    "\n",
    "round(12.78) , abs (-12.78)\n",
    " # absolute value\n",
    "    # takes any number and outputs it as positive number\n",
    "\n",
    "# for more check out the python documentation , you wont find every function here."
   ]
  },
  {
   "cell_type": "code",
   "execution_count": 15,
   "metadata": {},
   "outputs": [],
   "source": [
    "# Remember that python keeps Operator Precedence in mind when doing arithmetic ( BODMAS )"
   ]
  },
  {
   "cell_type": "code",
   "execution_count": 21,
   "metadata": {},
   "outputs": [
    {
     "data": {
      "text/plain": [
       "('0b1100', 12)"
      ]
     },
     "execution_count": 21,
     "metadata": {},
     "output_type": "execute_result"
    }
   ],
   "source": [
    "# As mentioned integers and flots are stored as binary in the computer's memory\n",
    "# There is a functions which outputs your int in binary and vise versa\n",
    "\n",
    "bin(12), int(\"1100\",2)\n",
    "\n",
    "# \",2\" is for python to understand it as base 2 number"
   ]
  },
  {
   "cell_type": "code",
   "execution_count": 22,
   "metadata": {},
   "outputs": [],
   "source": [
    "# Augemented Operators"
   ]
  },
  {
   "cell_type": "markdown",
   "metadata": {},
   "source": [
    "#### Strings"
   ]
  },
  {
   "cell_type": "code",
   "execution_count": 25,
   "metadata": {},
   "outputs": [],
   "source": [
    "# what is strings ?"
   ]
  },
  {
   "cell_type": "code",
   "execution_count": null,
   "metadata": {},
   "outputs": [],
   "source": [
    "# String Indexing"
   ]
  },
  {
   "cell_type": "markdown",
   "metadata": {},
   "source": [
    "#### Type Conversion"
   ]
  },
  {
   "cell_type": "code",
   "execution_count": null,
   "metadata": {},
   "outputs": [],
   "source": []
  }
 ],
 "metadata": {
  "kernelspec": {
   "display_name": "Python 3",
   "language": "python",
   "name": "python3"
  },
  "language_info": {
   "codemirror_mode": {
    "name": "ipython",
    "version": 3
   },
   "file_extension": ".py",
   "mimetype": "text/x-python",
   "name": "python",
   "nbconvert_exporter": "python",
   "pygments_lexer": "ipython3",
   "version": "3.8.3"
  }
 },
 "nbformat": 4,
 "nbformat_minor": 4
}
