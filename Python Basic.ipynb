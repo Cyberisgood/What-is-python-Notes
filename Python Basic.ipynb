{
 "cells": [
  {
   "cell_type": "markdown",
   "metadata": {},
   "source": [
    "# Python Basic\n",
    "In this notebook, there is information about:\n",
    "    \n",
    "    1. Conditional Logic\n",
    "    2. Ternary Operator\n",
    "    3. Short Circuiting\n",
    "    4. 'is' vs '=='\n",
    "    5. Loops\n",
    "    6. Iterable\n",
    "    7. range()\n",
    "    8. enumerate()\n",
    "    9. break,continue,pass\n",
    "    10. Functions\n",
    "    11. Methods vs Functions\n",
    "    12. *args and **kwargs --> arguments and keyword arguemts\n",
    "    13. Scope"
   ]
  },
  {
   "cell_type": "code",
   "execution_count": 24,
   "metadata": {},
   "outputs": [
    {
     "name": "stdout",
     "output_type": "stream",
     "text": [
      "you are too old to drive\n"
     ]
    }
   ],
   "source": [
    "# Condiational Logic\n",
    "\n",
    "is_old = True\n",
    "is_licenced = True\n",
    "\n",
    "if is_old == True:\n",
    "    print(\"you are too old to drive\")\n",
    "\n",
    "# I know this is a horrible example"
   ]
  },
  {
   "cell_type": "code",
   "execution_count": 25,
   "metadata": {},
   "outputs": [
    {
     "name": "stdout",
     "output_type": "stream",
     "text": [
      "How old are you ?22\n",
      "Do you have a licenseYa\n",
      "You are allowed to drive\n"
     ]
    }
   ],
   "source": [
    "# Here is a better example:\n",
    "\n",
    "age = int(input(\"How old are you ?\"))\n",
    "license = input(\"Do you have a license\")\n",
    "\n",
    "if license == \"ya\" or \"Ya\" or \"yes\" or \"Yes\":\n",
    "    license = True\n",
    "\n",
    "if age in range(18,70):\n",
    "    age = True\n",
    "\n",
    "if age and license == True:\n",
    "    print(\"You are allowed to drive\")\n",
    "else:\n",
    "    print(\"Sorry you are not allowed to drive\")\n",
    "# that is a better example"
   ]
  },
  {
   "cell_type": "code",
   "execution_count": 26,
   "metadata": {},
   "outputs": [
    {
     "name": "stdout",
     "output_type": "stream",
     "text": [
      "Attack allowed\n"
     ]
    }
   ],
   "source": [
    "# Ternary Operator\n",
    "# condition_if_True if condition else condition_if_false\n",
    "\n",
    "if_enemy = True\n",
    "can_attack = \"Attack allowed\" if if_enemy else \"Not enemy\"\n",
    "print(can_attack)"
   ]
  },
  {
   "cell_type": "code",
   "execution_count": 27,
   "metadata": {},
   "outputs": [
    {
     "name": "stdout",
     "output_type": "stream",
     "text": [
      "Attack! Attack!\n",
      "Unleash Secret Weapon!\n"
     ]
    }
   ],
   "source": [
    "# Short Circuitng\n",
    "# Lets take a look at this example:\n",
    "\n",
    "is_enemy = True\n",
    "is_Boss = True\n",
    "\n",
    "if is_enemy or is_Boss:       # Here python ignore the is_boss 's Boolean value because it is going to be True anyway\n",
    "    print(\"Attack! Attack!\")\n",
    "    \n",
    "# Here is another example\n",
    "\n",
    "if is_enemy and is_Boss:\n",
    "    print(\"Unleash Secret Weapon!\")"
   ]
  },
  {
   "cell_type": "markdown",
   "metadata": {},
   "source": [
    "###  <code> == </code>  vs <code> is </code>\n",
    "1. <code> == </code> check for the equality in value\n",
    "2. <code> is </code> checks the location in memory is the same"
   ]
  },
  {
   "cell_type": "code",
   "execution_count": 28,
   "metadata": {},
   "outputs": [
    {
     "name": "stdout",
     "output_type": "stream",
     "text": [
      "False\n",
      "False\n",
      "False\n",
      "False\n",
      "False\n"
     ]
    },
    {
     "name": "stderr",
     "output_type": "stream",
     "text": [
      "<>:1: SyntaxWarning: \"is\" with a literal. Did you mean \"==\"?\n",
      "<>:2: SyntaxWarning: \"is\" with a literal. Did you mean \"==\"?\n",
      "<>:4: SyntaxWarning: \"is\" with a literal. Did you mean \"==\"?\n",
      "<>:1: SyntaxWarning: \"is\" with a literal. Did you mean \"==\"?\n",
      "<>:2: SyntaxWarning: \"is\" with a literal. Did you mean \"==\"?\n",
      "<>:4: SyntaxWarning: \"is\" with a literal. Did you mean \"==\"?\n",
      "<ipython-input-28-e4769ff311eb>:1: SyntaxWarning: \"is\" with a literal. Did you mean \"==\"?\n",
      "  print(True is 1)\n",
      "<ipython-input-28-e4769ff311eb>:2: SyntaxWarning: \"is\" with a literal. Did you mean \"==\"?\n",
      "  print(\"1\" is 1)\n",
      "<ipython-input-28-e4769ff311eb>:4: SyntaxWarning: \"is\" with a literal. Did you mean \"==\"?\n",
      "  print(10 is 10.0) # they are not the same data type.\n"
     ]
    }
   ],
   "source": [
    "print(True is 1)\n",
    "print(\"1\" is 1)\n",
    "print([] is [])  # Every time i create a list, it is created in a location in the memory. The location in memory. \n",
    "print(10 is 10.0) # they are not the same data type.\n",
    "print([1,2,3] is [1,2,3])"
   ]
  },
  {
   "cell_type": "markdown",
   "metadata": {},
   "source": [
    "### Loops\n",
    "1. For loop : allows us to iterate anything that has a collection of elements like data structures.\n",
    "2. While loop : allows us to iterate until a condition is met.\n",
    "3. In range loop : allows us to iterate over a range of values."
   ]
  },
  {
   "cell_type": "code",
   "execution_count": 42,
   "metadata": {},
   "outputs": [
    {
     "name": "stdout",
     "output_type": "stream",
     "text": [
      "H\n",
      "e\n",
      "l\n",
      "l\n",
      "o\n",
      " \n",
      "W\n",
      "o\n",
      "r\n",
      "l\n",
      "d\n",
      "1\n",
      "2\n",
      "3\n",
      "4\n",
      "5\n"
     ]
    }
   ],
   "source": [
    "# Example1:\n",
    "for item in 'Hello World':\n",
    "    print(item)\n",
    "\n",
    "# Example2 :\n",
    "for item in (1,2,3,4,5):\n",
    "    print(item)\n"
   ]
  },
  {
   "cell_type": "code",
   "execution_count": 46,
   "metadata": {},
   "outputs": [
    {
     "name": "stdout",
     "output_type": "stream",
     "text": [
      "0\n",
      "1\n",
      "2\n",
      "3\n",
      "4\n",
      "5\n",
      "6\n",
      "7\n",
      "8\n",
      "9\n",
      "done with work\n",
      "say something: bye\n",
      "Mean!!\n"
     ]
    }
   ],
   "source": [
    "# While Loop\n",
    "\n",
    "i = 0\n",
    "while i < 10:\n",
    "    print(i)\n",
    "    i += 1\n",
    "else:\n",
    "    print(\"done with work\")\n",
    "\n",
    "# Another Example\n",
    "\n",
    "while True:\n",
    "    response = input('say something: ')\n",
    "    if response == \"bye\":\n",
    "        print(\"Mean!!\")\n",
    "        break"
   ]
  },
  {
   "cell_type": "code",
   "execution_count": 39,
   "metadata": {},
   "outputs": [
    {
     "name": "stdout",
     "output_type": "stream",
     "text": [
      "name\n",
      "age\n",
      "problem\n",
      "cure\n",
      "('name', 'Bob')\n",
      "('age', 990)\n",
      "('problem', 'too old')\n",
      "('cure', None)\n",
      "Bob\n",
      "990\n",
      "too old\n",
      "None\n",
      "name Bob\n",
      "age 990\n",
      "problem too old\n",
      "cure None\n",
      "name Bob\n",
      "age 990\n",
      "problem too old\n",
      "cure None\n"
     ]
    }
   ],
   "source": [
    "# Iterable means an object or a collection that can be iterated over.\n",
    "# Iterable - list,tuple,dictionary,set also string\n",
    "\n",
    "# Iterated --> check one by one each item in the collection.\n",
    "\n",
    "# Dictionary\n",
    "\n",
    "patient = {\n",
    "    \"name\":\"Bob\",\n",
    "    \"age\": 990,\n",
    "    \"problem\":\"too old\",\n",
    "    \"cure\" : None\n",
    "}\n",
    "\n",
    "# Bob is happy to die because he knows he is too old\n",
    "\n",
    "for item in patient:   # this only gives me the keys\n",
    "    print(item)\n",
    "    \n",
    "for item in patient.items():   # this gives the key: value pair , this is better!!\n",
    "    print(item)\n",
    "\n",
    "for item in patient.values():  # this gives only the value as the method suggests.  There is also the .keys() method\n",
    "    print(item)\n",
    "    \n",
    "# if you want key and values , you can do:\n",
    "\n",
    "for item in patient.items():\n",
    "    key,value = item;\n",
    "    print(key,value)\n",
    "    \n",
    "# or\n",
    "\n",
    "for k,v in patient.items():\n",
    "    print(k,v)\n",
    "    "
   ]
  },
  {
   "cell_type": "code",
   "execution_count": 40,
   "metadata": {},
   "outputs": [
    {
     "name": "stdout",
     "output_type": "stream",
     "text": [
      "range(0, 100)\n"
     ]
    }
   ],
   "source": [
    "# range()\n",
    "\n",
    "print(range(0,100))\n",
    "\n",
    "# for _ in range(1,100, stepover)...  # stepover is...\n"
   ]
  },
  {
   "cell_type": "code",
   "execution_count": 41,
   "metadata": {},
   "outputs": [
    {
     "name": "stdout",
     "output_type": "stream",
     "text": [
      "0 H\n",
      "1 e\n",
      "2 l\n",
      "3 l\n",
      "4 o\n",
      "5 o\n",
      "6 o\n",
      "7 o\n",
      "8 !\n",
      "9 !\n"
     ]
    }
   ],
   "source": [
    "# enumerate gives index\n",
    "\n",
    "for i, char in enumerate(\"Helloooo!!\"):\n",
    "    print(i,char)"
   ]
  },
  {
   "cell_type": "code",
   "execution_count": 47,
   "metadata": {},
   "outputs": [],
   "source": [
    "# Break, continue, pass\n",
    "\n",
    "my_list = [1,2,3]\n",
    "for item in my_list:  # python is being told that it should continue looping , hence never printing anything.\n",
    "    continue\n",
    "    print(item)\n",
    "\n"
   ]
  },
  {
   "cell_type": "code",
   "execution_count": 56,
   "metadata": {},
   "outputs": [
    {
     "name": "stdout",
     "output_type": "stream",
     "text": [
      "   *    \n",
      "  ***   \n",
      " *****  \n",
      "  ***   \n",
      "   *    \n"
     ]
    }
   ],
   "source": [
    "# Exercise\n",
    "\n",
    "picture = [\n",
    "    [0,0,0,1,0,0,0],\n",
    "    [0,0,1,1,1,0,0],\n",
    "    [0,1,1,1,1,1,0],\n",
    "    [0,0,1,1,1,0,0],\n",
    "    [0,0,0,1,0,0,0]\n",
    "]\n",
    "\n",
    "for row in picture:\n",
    "    for pixel in row:\n",
    "        if pixel == 1:\n",
    "            print(\"*\",end='')\n",
    "        else:\n",
    "            print(\" \",end='')\n",
    "    print(' ')"
   ]
  },
  {
   "cell_type": "code",
   "execution_count": 61,
   "metadata": {},
   "outputs": [
    {
     "name": "stdout",
     "output_type": "stream",
     "text": [
      "Hello\n",
      "hello Harsha Kanumuri\n"
     ]
    }
   ],
   "source": [
    "# functions\n",
    "\n",
    "def greeting():\n",
    "    print(\"Hello\")\n",
    "\n",
    "greeting()\n",
    "\n",
    "# This is an example of positional parameters and positional arguments\n",
    "# parameters inside the brackets , parameters are when we difine the function\n",
    "\n",
    "def greet(name,surname):\n",
    "    print(f\"hello {name} {surname}\")\n",
    "\n",
    "# arguments are when we call the function\n",
    "\n",
    "greet(\"Harsha\",\"Kanumuri\")\n"
   ]
  },
  {
   "cell_type": "code",
   "execution_count": 65,
   "metadata": {},
   "outputs": [
    {
     "name": "stdout",
     "output_type": "stream",
     "text": [
      "Harsha Kanumuri\n",
      "None\n",
      "Master Yumi\n"
     ]
    }
   ],
   "source": [
    "# Keyword Parameters and Arguments\n",
    "\n",
    "def greeting(name=\"Harsha\",surname=\"Kanumuri\"):\n",
    "    print(name,surname)\n",
    "\n",
    "print(greeting())\n",
    "\n",
    "# Default Parameters\n",
    "\n",
    "greeting(\"Master\",\"Yumi\")\n",
    "\n",
    "# return keyword exits the code block/ function"
   ]
  },
  {
   "cell_type": "markdown",
   "metadata": {},
   "source": [
    "### Functions vs Methods\n",
    "\n",
    "1. There are built in functions and functions that you can create. An example of inbuilt function in the <code> print() </code> function. A way to indentify a function in python is to look at the brackets at the end where parameters could be set or left blank <code> () </code>. \n",
    "\n",
    "\n",
    "2. Method has to 'owned by an object' (in python it is what ever it is to the left) Example: <code> \"Hello World\".capitalize() </code>"
   ]
  },
  {
   "cell_type": "code",
   "execution_count": 68,
   "metadata": {},
   "outputs": [
    {
     "name": "stdout",
     "output_type": "stream",
     "text": [
      "29\n"
     ]
    }
   ],
   "source": [
    "# *args and **kwargs\n",
    "# what is positional arguments ?\n",
    "# what is keyword arguments ?\n",
    "\n",
    "def super_func(name,*args,i=\"hi\",**kwargs):\n",
    "    total = 0\n",
    "    for items in kwargs.values():\n",
    "        total += items\n",
    "    return sum(args) + total\n",
    "\n",
    "print(super_func(1,2,3,4,5,num1=5,num2=10))\n",
    "\n",
    "# Rule: parameters, *args, default parameters, **kwargs"
   ]
  },
  {
   "cell_type": "code",
   "execution_count": 80,
   "metadata": {},
   "outputs": [
    {
     "name": "stdout",
     "output_type": "stream",
     "text": [
      "1\n",
      "inner: nonlocal\n",
      "outer: nonlocal\n"
     ]
    }
   ],
   "source": [
    "# Scope - what variables do i have access to?\n",
    "\n",
    "# There is a step by step method to how the python interpreter goes through to check variable scope\n",
    "# 1. Start with local?\n",
    "# 2. Parent local?   Does the parent function have the variable?  ( function calling a function)\n",
    "# 3. Global?\n",
    "# 4. Built in python.\n",
    "if True:\n",
    "    x=10\n",
    "\n",
    "def some_func():\n",
    "    total = 100\n",
    "    print(x)     # x in not accessable to x\n",
    "    \n",
    "# Example\n",
    "\n",
    "total = 0\n",
    "\n",
    "def count():\n",
    "    global total\n",
    "    total += 1\n",
    "    return total\n",
    "print(count())\n",
    "\n",
    "# Another Example\n",
    "\n",
    "def outer():\n",
    "    x = \"local\"\n",
    "    def inner():\n",
    "        nonlocal x\n",
    "        x = \"nonlocal\"\n",
    "        print(\"inner:\",x)\n",
    "    inner()\n",
    "    print(\"outer:\",x)\n",
    "outer()"
   ]
  },
  {
   "cell_type": "markdown",
   "metadata": {},
   "source": [
    "### Why do we need scope ?\n",
    "As you may already know , your CPU has not got infinite processing power. If all the variables were global , your computer would have to manage a lot of  variables while running your code.\n",
    "Python interpreter can ingnore the variables that are not used anymore which saves computational power."
   ]
  },
  {
   "cell_type": "code",
   "execution_count": null,
   "metadata": {},
   "outputs": [],
   "source": []
  }
 ],
 "metadata": {
  "kernelspec": {
   "display_name": "Python 3",
   "language": "python",
   "name": "python3"
  },
  "language_info": {
   "codemirror_mode": {
    "name": "ipython",
    "version": 3
   },
   "file_extension": ".py",
   "mimetype": "text/x-python",
   "name": "python",
   "nbconvert_exporter": "python",
   "pygments_lexer": "ipython3",
   "version": "3.8.3"
  }
 },
 "nbformat": 4,
 "nbformat_minor": 4
}
